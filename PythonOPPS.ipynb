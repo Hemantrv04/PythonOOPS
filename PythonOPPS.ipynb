{
  "nbformat": 4,
  "nbformat_minor": 0,
  "metadata": {
    "colab": {
      "provenance": []
    },
    "kernelspec": {
      "name": "python3",
      "display_name": "Python 3"
    },
    "language_info": {
      "name": "python"
    }
  },
  "cells": [
    {
      "cell_type": "markdown",
      "source": [
        "# Python OOPS Questions"
      ],
      "metadata": {
        "id": "QTbo1Vjw90Jo"
      }
    },
    {
      "cell_type": "markdown",
      "source": [
        "1. What is Object-Oriented Programming (OOP)\n",
        "\n",
        "  --> Object-Oriented Programming (OOP) is a programming paradigm that organizes software design around objects, which are instances of classes."
      ],
      "metadata": {
        "id": "wRnz6Ob690Wq"
      }
    },
    {
      "cell_type": "markdown",
      "source": [
        "2. What is a class in OOP\n",
        "\n",
        "  --> A class in Object-Oriented Programming (OOP) is a blueprint or template for creating objects. It defines the attributes (data) and methods (functions) that its objects will have."
      ],
      "metadata": {
        "id": "mD9Yr-OM90d-"
      }
    },
    {
      "cell_type": "markdown",
      "source": [
        "3. What is an object in OOP\n",
        "\n",
        "  --> An object is an instance of a class. It is a real-world entity that has its own state (attributes) and behavior (methods), defined by the class."
      ],
      "metadata": {
        "id": "i3Cuc6nZ90gi"
      }
    },
    {
      "cell_type": "markdown",
      "source": [
        "4. What is the difference between abstraction and encapsulation\n",
        "\n",
        "  --> Abstraction : Hides implementation details and shows only essential features.\n",
        "  \n",
        "  Encapsulation : Hides data by restricting direct access and only allowing controlled modification."
      ],
      "metadata": {
        "id": "fEO5F11z90jM"
      }
    },
    {
      "cell_type": "markdown",
      "source": [
        "5. What are dunder methods in Python\n",
        "\n",
        "  --> Dunder methods (short for \"double underscore methods\"), also known as magic methods or special methods, are built-in methods in Python that begin and end with double underscores (__...__)."
      ],
      "metadata": {
        "id": "YlhBQt4u90mo"
      }
    },
    {
      "cell_type": "markdown",
      "source": [
        "6. Explain the concept of inheritance in OOP\n",
        "\n",
        "  --> Inheritance is an Object-Oriented Programming (OOP) concept where a child class (subclass) inherits properties and methods from a parent class (superclass)."
      ],
      "metadata": {
        "id": "ghhmd_IU91qh"
      }
    },
    {
      "cell_type": "markdown",
      "source": [
        "7. What is polymorphism in OOP\n",
        "\n",
        "  --> Polymorphism is an Object-Oriented Programming (OOP) concept that allows objects of different classes to be treated as objects of a common superclass."
      ],
      "metadata": {
        "id": "1CKtOoba91zU"
      }
    },
    {
      "cell_type": "markdown",
      "source": [
        "8. How is encapsulation achieved in Python\n",
        "\n",
        "  --> Encapsulation is achieved in Python using access modifiers that control how class attributes and methods can be accessed. It helps in hiding data and restricting direct modification, ensuring data integrity.\n",
        "\n"
      ],
      "metadata": {
        "id": "Zs4FqTbK9187"
      }
    },
    {
      "cell_type": "markdown",
      "source": [
        "9. What is a constructor in Python\n",
        "\n",
        "  --> A constructor in Python is a special method used to initialize objects when they are created. In Python, the constructor method is called __init__(), and it is executed automatically when a new instance of a class is created."
      ],
      "metadata": {
        "id": "Y-E6pm4E92Gj"
      }
    },
    {
      "cell_type": "markdown",
      "source": [
        "10. What are class and static methods in Python\n",
        "\n",
        "  --> a class method (@classmethod) when you need to modify class attributes or create alternative constructors.\n",
        "\n",
        "  a static method (@staticmethod) when you need a utility function that doesn’t modify class or instance attributes."
      ],
      "metadata": {
        "id": "CjLd6xr292Qw"
      }
    },
    {
      "cell_type": "markdown",
      "source": [
        "11. What is method overloading in Python\n",
        "\n",
        "  --> Method overloading is the ability to define multiple methods with the same name but different parameters in a class. While some languages like Java and C++ support true method overloading, Python does not natively support method overloading. Instead, Python provides ways to simulate method overloading using default arguments, *args, **kwargs, or conditional logic inside the method.\n",
        "\n"
      ],
      "metadata": {
        "id": "UvlzOVQ992aa"
      }
    },
    {
      "cell_type": "markdown",
      "source": [
        "12.  What is method overriding in OOP\n",
        "\n",
        "  --> Method Overriding is a concept in Object-Oriented Programming (OOP) where a subclass (child class) provides a specific implementation of a method that is already defined in its superclass (parent class)."
      ],
      "metadata": {
        "id": "4k0B_Nfu92mW"
      }
    },
    {
      "cell_type": "markdown",
      "source": [
        "13.  What is a property decorator in Python\n",
        "\n",
        "  --> A property decorator (@property) in Python allows you to define getter, setter, and deleter methods for class attributes in an elegant and Pythonic way. It enables data encapsulation while allowing controlled access to attributes."
      ],
      "metadata": {
        "id": "90i6Smkp92wy"
      }
    },
    {
      "cell_type": "markdown",
      "source": [
        "14. Why is polymorphism important in OOP\n",
        "\n",
        "  --> Polymorphism is a fundamental concept in Object-Oriented Programming (OOP) that allows one interface to be used for different types of objects. It helps in writing flexible, scalable, and reusable code."
      ],
      "metadata": {
        "id": "jyWb2WsD9278"
      }
    },
    {
      "cell_type": "markdown",
      "source": [
        "15. What is an abstract class in Python\n",
        "\n",
        "  --> An abstract class in Python is a class that cannot be instantiated and serves as a blueprint for other classes. It is used to enforce that subclasses must implement specific methods.\n",
        "\n",
        "  In Python, abstract classes are created using the ABC (Abstract Base Class) module from the abc package."
      ],
      "metadata": {
        "id": "Xc3_nA7V93HE"
      }
    },
    {
      "cell_type": "markdown",
      "source": [
        "16. What are the advantages of OOP\n",
        "\n",
        "  --> 1. Modularity Through Encapsulation\n",
        "OOP groups related tasks and data into objects, making your code modular and organized.\n",
        "  \n",
        "  2. Reusability Through Inheritance\n",
        "You can reuse existing code by extending classes through inheritance."
      ],
      "metadata": {
        "id": "eGWEw7lb93Sl"
      }
    },
    {
      "cell_type": "markdown",
      "source": [
        "17. What is the difference between a class variable and an instance variable\n",
        "\n",
        "  --> A class variable is shared across all instances of a class. It is defined inside the class but outside any method.\n",
        "\n",
        "  An instance variable is unique to each object. It is defined inside the __init__ method or other instance methods using self."
      ],
      "metadata": {
        "id": "ehg5Xejt93cu"
      }
    },
    {
      "cell_type": "markdown",
      "source": [
        "18. What is multiple inheritance in Python\n",
        "\n",
        "  --> Multiple inheritance is a feature in Python where a class can inherit from more than one parent class. This allows a child class to access attributes and methods from multiple base classes."
      ],
      "metadata": {
        "id": "fEKTdKUJ93o-"
      }
    },
    {
      "cell_type": "markdown",
      "source": [
        "19. Explain the purpose of ‘’__str__’ and ‘__repr__’ ‘ methods in Python\n",
        "\n",
        "  --> The __str__() method is used to provide a human-readable or user-friendly string representation of an object.\n",
        "  \n",
        "  The __repr__() method is meant to provide a technical or developer-oriented string representation of an object.\n",
        "\n"
      ],
      "metadata": {
        "id": "MfW_iObs93zZ"
      }
    },
    {
      "cell_type": "markdown",
      "source": [
        "20.  What is the significance of the ‘super()’ function in Python\n",
        "\n",
        "  --> The super() function in Python is used to call methods from a parent (superclass) inside a child class. It allows access to inherited methods and attributes without explicitly naming the parent class.\n",
        "\n"
      ],
      "metadata": {
        "id": "kfy8Tj9U93-i"
      }
    },
    {
      "cell_type": "markdown",
      "source": [
        "21. What is the significance of the __del__ method in Python\n",
        "\n",
        "  --> The __del__ method in Python is called when an object is about to be destroyed. It is known as a destructor and is used to release resources like files, network connections, or memory before the object is deleted.\n",
        "\n"
      ],
      "metadata": {
        "id": "G79RQ8-g94Jf"
      }
    },
    {
      "cell_type": "markdown",
      "source": [
        "22. What is the difference between @staticmethod and @classmethod in Python\n",
        "\n",
        "  --> A static method does not take self (instance) or cls (class) as a parameter. It behaves like a regular function but belongs to a class.\n",
        "\n",
        "  A class method takes cls as its first parameter, allowing it to modify class-level attributes."
      ],
      "metadata": {
        "id": "V5-PrDHm94UY"
      }
    },
    {
      "cell_type": "markdown",
      "source": [
        "23.  How does polymorphism work in Python with inheritance\n",
        "\n",
        "  --> Polymorphism allows different classes to define methods with the same name but different behaviors. When combined with inheritance, it enables a subclass to override methods from its parent class while maintaining a consistent interface."
      ],
      "metadata": {
        "id": "YGVIe0rT94fM"
      }
    },
    {
      "cell_type": "markdown",
      "source": [
        "24. What is method chaining in Python OOP\n",
        "\n",
        "  --> Method Chaining is a technique where multiple methods are called on the same object in a single statement. Each method returns self (or another object), allowing the next method to be invoked directly."
      ],
      "metadata": {
        "id": "jU1m7wvP94qG"
      }
    },
    {
      "cell_type": "markdown",
      "source": [
        "25. What is the purpose of the __call__ method in Python\n",
        "\n",
        "  --> The __call__ method allows an instance of a class to be called like a function. This makes objects behave like functions while still maintaining state."
      ],
      "metadata": {
        "id": "t9TeCukg9408"
      }
    },
    {
      "cell_type": "markdown",
      "source": [
        "#Python OOPS Practical"
      ],
      "metadata": {
        "id": "FcH3INIe94-4"
      }
    },
    {
      "cell_type": "code",
      "source": [
        "# 1.  Create a parent class Animal with a method speak() that prints a generic message. Create a child class Dog that overrides the speak() method to print \"Bark!\".\n",
        "\n",
        "class Animal:\n",
        "    def speak(self):\n",
        "        print(\"Generic animal sound\")\n",
        "\n",
        "class Dog(Animal):\n",
        "    def speak(self):\n",
        "        print(\"Bark!\")\n",
        "\n",
        "a = Animal()\n",
        "a.speak()\n",
        "\n",
        "d = Dog()\n",
        "d.speak()"
      ],
      "metadata": {
        "id": "4rXGW6hp-jKz",
        "colab": {
          "base_uri": "https://localhost:8080/"
        },
        "outputId": "5a4f4fe8-09f3-46ee-9fc7-8c3e07a154b1"
      },
      "execution_count": 1,
      "outputs": [
        {
          "output_type": "stream",
          "name": "stdout",
          "text": [
            "Generic animal sound\n",
            "Bark!\n"
          ]
        }
      ]
    },
    {
      "cell_type": "code",
      "source": [
        "# 2. Write a program to create an abstract class Shape with a method area(). Derive classes Circle and Rectangle from it and implement the area() method in both.\n",
        "\n",
        "from abc import ABC, abstractmethod\n",
        "import math\n",
        "\n",
        "# Abstract class\n",
        "class Shape(ABC):\n",
        "    @abstractmethod\n",
        "    def area(self):\n",
        "        pass\n",
        "\n",
        "class Circle(Shape):\n",
        "    def __init__(self, radius):\n",
        "        self.radius = radius\n",
        "\n",
        "    def area(self):\n",
        "        return math.pi * self.radius ** 2\n",
        "\n",
        "\n",
        "class Rectangle(Shape):\n",
        "    def __init__(self, width, height):\n",
        "        self.width = width\n",
        "        self.height = height\n",
        "\n",
        "    def area(self):\n",
        "        return self.width * self.height\n",
        "\n",
        "\n",
        "circle = Circle(5)\n",
        "rectangle = Rectangle(4, 6)\n",
        "\n",
        "\n",
        "print(f\"Circle Area: {circle.area():.2f}\")\n",
        "print(f\"Rectangle Area: {rectangle.area()}\")\n"
      ],
      "metadata": {
        "id": "TYiwCy0X-jWc",
        "colab": {
          "base_uri": "https://localhost:8080/"
        },
        "outputId": "780bd7b7-7c35-465e-cd7a-52b664f3cf41"
      },
      "execution_count": 2,
      "outputs": [
        {
          "output_type": "stream",
          "name": "stdout",
          "text": [
            "Circle Area: 78.54\n",
            "Rectangle Area: 24\n"
          ]
        }
      ]
    },
    {
      "cell_type": "code",
      "source": [
        "# 3.  Implement a multi-level inheritance scenario where a class Vehicle has an attribute type. Derive a class Car and further derive a class ElectricCar that adds a battery attribute.\n",
        "\n",
        "class Vehicle:\n",
        "    def __init__(self, vehicle_type):\n",
        "        self.vehicle_type = vehicle_type\n",
        "\n",
        "    def show_type(self):\n",
        "        print(f\"Vehicle Type: {self.vehicle_type}\")\n",
        "\n",
        "class Car(Vehicle):\n",
        "    def __init__(self, brand, model, vehicle_type=\"Car\"):\n",
        "        super().__init__(vehicle_type)\n",
        "        self.brand = brand\n",
        "        self.model = model\n",
        "\n",
        "    def show_details(self):\n",
        "        print(f\"Car: {self.brand} {self.model}\")\n",
        "\n",
        "class ElectricCar(Car):\n",
        "    def __init__(self, brand, model, battery_capacity):\n",
        "        super().__init__(brand, model)\n",
        "        self.battery_capacity = battery_capacity\n",
        "\n",
        "    def show_battery(self):\n",
        "        print(f\"Battery Capacity: {self.battery_capacity} kWh\")\n",
        "\n",
        "tesla = ElectricCar(\"Tesla\", \"Model S\", 100)\n",
        "\n",
        "tesla.show_type()\n",
        "tesla.show_details()\n",
        "tesla.show_battery()\n"
      ],
      "metadata": {
        "id": "33aHKiJ5-j8v",
        "colab": {
          "base_uri": "https://localhost:8080/"
        },
        "outputId": "21b26631-75f1-4714-94eb-6565bfbb3094"
      },
      "execution_count": 3,
      "outputs": [
        {
          "output_type": "stream",
          "name": "stdout",
          "text": [
            "Vehicle Type: Car\n",
            "Car: Tesla Model S\n",
            "Battery Capacity: 100 kWh\n"
          ]
        }
      ]
    },
    {
      "cell_type": "code",
      "source": [
        "# 4.   Write a program to demonstrate encapsulation by creating a class BankAccount with private attributes balance and methods to deposit, withdraw, and check balance\n",
        "\n",
        "class BankAccount:\n",
        "    def __init__(self, account_holder, initial_balance=0):\n",
        "        self.account_holder = account_holder\n",
        "        self.__balance = initial_balance  # Private attribute\n",
        "\n",
        "    def deposit(self, amount):\n",
        "        if amount > 0:\n",
        "            self.__balance += amount\n",
        "            print(f\"Deposited ${amount}. New Balance: ${self.__balance}\")\n",
        "        else:\n",
        "            print(\"Deposit amount must be positive.\")\n",
        "\n",
        "    def withdraw(self, amount):\n",
        "        if 0 < amount <= self.__balance:\n",
        "            self.__balance -= amount\n",
        "            print(f\"Withdrew ${amount}. Remaining Balance: ${self.__balance}\")\n",
        "        else:\n",
        "            print(\"Invalid withdrawal amount or insufficient funds.\")\n",
        "\n",
        "    def check_balance(self):\n",
        "        print(f\"Account Balance: ${self.__balance}\")\n",
        "\n",
        "account = BankAccount(\"Alice\", 500)\n",
        "\n",
        "account.deposit(200)\n",
        "account.withdraw(100)\n",
        "account.check_balance()\n"
      ],
      "metadata": {
        "id": "MJbBEv8I-kMM",
        "colab": {
          "base_uri": "https://localhost:8080/"
        },
        "outputId": "11a0fd12-590c-446d-970a-22e4a7752e20"
      },
      "execution_count": 4,
      "outputs": [
        {
          "output_type": "stream",
          "name": "stdout",
          "text": [
            "Deposited $200. New Balance: $700\n",
            "Withdrew $100. Remaining Balance: $600\n",
            "Account Balance: $600\n"
          ]
        }
      ]
    },
    {
      "cell_type": "code",
      "source": [
        "# 5.  Demonstrate runtime polymorphism using a method play() in a base class Instrument. Derive classes Guitar and Piano that implement their own version of play()\n",
        "\n",
        "class Instrument:\n",
        "    def play(self):\n",
        "        print(\"Playing an instrument...\")\n",
        "\n",
        "class Guitar(Instrument):\n",
        "    def play(self):\n",
        "        print(\"Strumming the guitar 🎸\")\n",
        "\n",
        "class Piano(Instrument):\n",
        "    def play(self):\n",
        "        print(\"Playing the piano 🎹\")\n",
        "\n",
        "def play_instrument(instrument):\n",
        "    instrument.play()\n",
        "\n",
        "guitar = Guitar()\n",
        "piano = Piano()\n",
        "\n",
        "play_instrument(guitar)\n"
      ],
      "metadata": {
        "id": "quoTbDLY-kZV",
        "colab": {
          "base_uri": "https://localhost:8080/"
        },
        "outputId": "3344a3d3-aec9-4d79-912a-0df09c6311d8"
      },
      "execution_count": 5,
      "outputs": [
        {
          "output_type": "stream",
          "name": "stdout",
          "text": [
            "Strumming the guitar 🎸\n"
          ]
        }
      ]
    },
    {
      "cell_type": "code",
      "source": [
        "# 6.  Create a class MathOperations with a class method add_numbers() to add two numbers and a static method subtract_numbers() to subtract two numbers.\n",
        "\n",
        "class MathOperations:\n",
        "    @classmethod\n",
        "    def add_numbers(cls, a, b):\n",
        "        return a + b\n",
        "\n",
        "    @staticmethod\n",
        "    def subtract_numbers(a, b):\n",
        "        return a - b\n",
        "\n",
        "sum_result = MathOperations.add_numbers(10, 5)\n",
        "print(f\"Sum: {sum_result}\")\n",
        "\n",
        "difference = MathOperations.subtract_numbers(10, 5)\n",
        "print(f\"Difference: {difference}\")\n"
      ],
      "metadata": {
        "id": "XvwbFEQT-kmc",
        "colab": {
          "base_uri": "https://localhost:8080/"
        },
        "outputId": "8a7706fb-0eaa-42c4-ce8c-c13c6fa16905"
      },
      "execution_count": 6,
      "outputs": [
        {
          "output_type": "stream",
          "name": "stdout",
          "text": [
            "Sum: 15\n",
            "Difference: 5\n"
          ]
        }
      ]
    },
    {
      "cell_type": "code",
      "source": [
        "# 7.  Implement a class Person with a class method to count the total number of persons created\n",
        "\n",
        "class Person:\n",
        "    count = 0\n",
        "\n",
        "    def __init__(self, name):\n",
        "        self.name = name\n",
        "        Person.count += 1\n",
        "\n",
        "    @classmethod\n",
        "    def total_persons(cls):\n",
        "        return f\"Total persons created: {cls.count}\"\n",
        "\n",
        "p1 = Person(\"Alice\")\n",
        "p2 = Person(\"Bob\")\n",
        "p3 = Person(\"Charlie\")\n",
        "\n",
        "print(Person.total_persons())\n"
      ],
      "metadata": {
        "id": "D5t-ZuAx-ky8",
        "colab": {
          "base_uri": "https://localhost:8080/"
        },
        "outputId": "5ecba144-cbe5-47d7-a04c-94c4611f0280"
      },
      "execution_count": 7,
      "outputs": [
        {
          "output_type": "stream",
          "name": "stdout",
          "text": [
            "Total persons created: 3\n"
          ]
        }
      ]
    },
    {
      "cell_type": "code",
      "source": [
        "# 8.  Write a class Fraction with attributes numerator and denominator. Override the str method to display the fraction as \"numerator/denominator\".\n",
        "\n",
        "class Fraction:\n",
        "    def __init__(self, numerator, denominator):\n",
        "        if denominator == 0:\n",
        "            raise ValueError(\"Denominator cannot be zero!\")\n",
        "        self.numerator = numerator\n",
        "        self.denominator = denominator\n",
        "\n",
        "    def __str__(self):\n",
        "        return f\"{self.numerator}/{self.denominator}\"\n",
        "\n",
        "frac1 = Fraction(3, 4)\n",
        "frac2 = Fraction(5, 8)\n",
        "\n",
        "print(frac1)\n",
        "print(frac2)"
      ],
      "metadata": {
        "id": "KUDT7t-S-k91",
        "colab": {
          "base_uri": "https://localhost:8080/"
        },
        "outputId": "9cc78875-7c99-4dfa-ad4e-500b4569a354"
      },
      "execution_count": 8,
      "outputs": [
        {
          "output_type": "stream",
          "name": "stdout",
          "text": [
            "3/4\n",
            "5/8\n"
          ]
        }
      ]
    },
    {
      "cell_type": "code",
      "source": [
        "# 9.  Demonstrate operator overloading by creating a class Vector and overriding the add method to add two vectors\n",
        "\n",
        "class Vector:\n",
        "    def __init__(self, x, y):\n",
        "        self.x = x\n",
        "        self.y = y\n",
        "\n",
        "    def __add__(self, other):\n",
        "        if not isinstance(other, Vector):\n",
        "            raise TypeError(\"Can only add another Vector\")\n",
        "        return Vector(self.x + other.x, self.y + other.y)\n",
        "\n",
        "    def __str__(self):\n",
        "        return f\"({self.x}, {self.y})\"\n",
        "\n",
        "v1 = Vector(2, 3)\n",
        "v2 = Vector(4, 5)\n",
        "\n",
        "result = v1 + v2\n",
        "\n",
        "print(f\"Vector 1: {v1}\")\n",
        "print(f\"Vector 2: {v2}\")\n",
        "print(f\"Sum: {result}\")"
      ],
      "metadata": {
        "id": "-Wqrjhy8-lKE",
        "colab": {
          "base_uri": "https://localhost:8080/"
        },
        "outputId": "c530e863-e0fb-4566-853d-8bdd9c62fce0"
      },
      "execution_count": 9,
      "outputs": [
        {
          "output_type": "stream",
          "name": "stdout",
          "text": [
            "Vector 1: (2, 3)\n",
            "Vector 2: (4, 5)\n",
            "Sum: (6, 8)\n"
          ]
        }
      ]
    },
    {
      "cell_type": "code",
      "source": [
        "# 10.  Create a class Person with attributes name and age. Add a method greet() that prints \"Hello, my name is {name} and I am {age} years old.\"\n",
        "\n",
        "class Person:\n",
        "    def __init__(self, name, age):\n",
        "        self.name = name\n",
        "        self.age = age\n",
        "\n",
        "    def greet(self):\n",
        "        print(f\"Hello, my name is {self.name} and I am {self.age} years old.\")\n",
        "\n",
        "person = Person(\"John\", 30)\n",
        "\n",
        "person.greet()\n"
      ],
      "metadata": {
        "id": "vWqp-c1Z-lW3",
        "colab": {
          "base_uri": "https://localhost:8080/"
        },
        "outputId": "c35655b7-7696-454c-f36a-22eac95be808"
      },
      "execution_count": 10,
      "outputs": [
        {
          "output_type": "stream",
          "name": "stdout",
          "text": [
            "Hello, my name is John and I am 30 years old.\n"
          ]
        }
      ]
    },
    {
      "cell_type": "code",
      "source": [
        "# 11. Implement a class Student with attributes name and grades. Create a method average_grade() to compute the average of the grades.\n",
        "\n",
        "class Student:\n",
        "    def __init__(self, name, grades):\n",
        "        self.name = name\n",
        "        self.grades = grades\n",
        "\n",
        "    def average_grade(self):\n",
        "        if self.grades:\n",
        "            return sum(self.grades) / len(self.grades)\n",
        "        return 0\n",
        "\n",
        "student = Student(\"Alice\", [85, 90, 78, 92, 88])\n",
        "print(f\"{student.name}'s average grade: {student.average_grade():.2f}\")\n",
        "\n"
      ],
      "metadata": {
        "id": "MhZPOmwe-ljE",
        "colab": {
          "base_uri": "https://localhost:8080/"
        },
        "outputId": "2a02f39c-d0b4-4039-b2db-bface3dcee6d"
      },
      "execution_count": 11,
      "outputs": [
        {
          "output_type": "stream",
          "name": "stdout",
          "text": [
            "Alice's average grade: 86.60\n"
          ]
        }
      ]
    },
    {
      "cell_type": "code",
      "source": [
        "# 12. Create a class Rectangle with methods set_dimensions() to set the dimensions and area() to calculate the area.\n",
        "\n",
        "class Rectangle:\n",
        "    def __init__(self, length=0, width=0):\n",
        "        self.length = length\n",
        "        self.width = width\n",
        "\n",
        "    def set_dimensions(self, length, width):\n",
        "        \"\"\"Set the dimensions of the rectangle.\"\"\"\n",
        "        self.length = length\n",
        "        self.width = width\n",
        "\n",
        "    def area(self):\n",
        "        \"\"\"Calculate and return the area of the rectangle.\"\"\"\n",
        "        return self.length * self.width\n",
        "\n",
        "rect = Rectangle()\n",
        "rect.set_dimensions(5, 10)\n",
        "print(f\"Rectangle Area: {rect.area()}\")\n"
      ],
      "metadata": {
        "id": "V-69Cm8T-lv4",
        "colab": {
          "base_uri": "https://localhost:8080/"
        },
        "outputId": "7f4571d0-2bfd-4a49-9d0e-4217a11fd970"
      },
      "execution_count": 12,
      "outputs": [
        {
          "output_type": "stream",
          "name": "stdout",
          "text": [
            "Rectangle Area: 50\n"
          ]
        }
      ]
    },
    {
      "cell_type": "code",
      "source": [
        "# 13.  Create a class Employee with a method calculate_salary() that computes the salary based on hours worked and hourly rate. Create a derived class Manager that adds a bonus to the salary.\n",
        "\n",
        "class Employee:\n",
        "    def __init__(self, name, hours_worked, hourly_rate):\n",
        "        self.name = name\n",
        "        self.hours_worked = hours_worked\n",
        "        self.hourly_rate = hourly_rate\n",
        "\n",
        "    def calculate_salary(self):\n",
        "        \"\"\"Calculate salary based on hours worked and hourly rate.\"\"\"\n",
        "        return self.hours_worked * self.hourly_rate\n",
        "\n",
        "class Manager(Employee):\n",
        "    def __init__(self, name, hours_worked, hourly_rate, bonus):\n",
        "        super().__init__(name, hours_worked, hourly_rate)\n",
        "        self.bonus = bonus\n",
        "\n",
        "    def calculate_salary(self):\n",
        "        \"\"\"Calculate salary including bonus.\"\"\"\n",
        "        base_salary = super().calculate_salary()\n",
        "        return base_salary + self.bonus\n",
        "\n",
        "emp = Employee(\"Alice\", 40, 20)\n",
        "mgr = Manager(\"Bob\", 40, 30, 500)\n",
        "\n",
        "print(f\"{emp.name}'s Salary: ${emp.calculate_salary()}\")\n",
        "print(f\"{mgr.name}'s Salary: ${mgr.calculate_salary()}\")\n"
      ],
      "metadata": {
        "id": "QP5E6POE-l8z",
        "colab": {
          "base_uri": "https://localhost:8080/"
        },
        "outputId": "9a16822c-61f3-4909-e1a3-6deefcdb40f4"
      },
      "execution_count": 13,
      "outputs": [
        {
          "output_type": "stream",
          "name": "stdout",
          "text": [
            "Alice's Salary: $800\n",
            "Bob's Salary: $1700\n"
          ]
        }
      ]
    },
    {
      "cell_type": "code",
      "source": [
        "# 14. Create a class Product with attributes name, price, and quantity. Implement a method total_price() that calculates the total price of the product.\n",
        "\n",
        "class Product:\n",
        "    def __init__(self, name, price, quantity):\n",
        "        self.name = name\n",
        "        self.price = price\n",
        "        self.quantity = quantity\n",
        "\n",
        "    def total_price(self):\n",
        "        \"\"\"Calculate the total price of the product.\"\"\"\n",
        "        return self.price * self.quantity\n",
        "\n",
        "product1 = Product(\"Laptop\", 800, 2)\n",
        "product2 = Product(\"Phone\", 500, 3)\n",
        "\n",
        "print(f\"Total price for {product1.name}: ${product1.total_price()}\")\n",
        "print(f\"Total price for {product2.name}: ${product2.total_price()}\")"
      ],
      "metadata": {
        "id": "KtxMSAYE-mIk",
        "colab": {
          "base_uri": "https://localhost:8080/"
        },
        "outputId": "75b2021b-9631-4b31-a874-bb7618d6315b"
      },
      "execution_count": 14,
      "outputs": [
        {
          "output_type": "stream",
          "name": "stdout",
          "text": [
            "Total price for Laptop: $1600\n",
            "Total price for Phone: $1500\n"
          ]
        }
      ]
    },
    {
      "cell_type": "code",
      "source": [
        "# 15. Create a class Animal with an abstract method sound(). Create two derived classes Cow and Sheep that implement the sound() method.\n",
        "\n",
        "from abc import ABC, abstractmethod\n",
        "\n",
        "class Animal(ABC):\n",
        "    @abstractmethod\n",
        "    def sound(self):\n",
        "        \"\"\"Abstract method that must be implemented by subclasses\"\"\"\n",
        "        pass\n",
        "\n",
        "class Cow(Animal):\n",
        "    def sound(self):\n",
        "        return \"Moo!\"\n",
        "\n",
        "class Sheep(Animal):\n",
        "    def sound(self):\n",
        "        return \"Baa!\"\n",
        "\n",
        "cow = Cow()\n",
        "sheep = Sheep()\n",
        "\n",
        "print(f\"Cow says: {cow.sound()}\")\n",
        "print(f\"Sheep says: {sheep.sound()}\")"
      ],
      "metadata": {
        "id": "mOIF-gD5-mUP",
        "colab": {
          "base_uri": "https://localhost:8080/"
        },
        "outputId": "54f19c0c-8ab5-4586-8a9b-7849c91371a1"
      },
      "execution_count": 15,
      "outputs": [
        {
          "output_type": "stream",
          "name": "stdout",
          "text": [
            "Cow says: Moo!\n",
            "Sheep says: Baa!\n"
          ]
        }
      ]
    },
    {
      "cell_type": "code",
      "source": [
        "# 16.  Create a class Book with attributes title, author, and year_published. Add a method get_book_info() that returns a formatted string with the book's details\n",
        "\n",
        "class Book:\n",
        "    def __init__(self, title, author, year_published):\n",
        "        self.title = title\n",
        "        self.author = author\n",
        "        self.year_published = year_published\n",
        "\n",
        "    def get_book_info(self):\n",
        "        \"\"\"Return a formatted string with book details.\"\"\"\n",
        "        return f\"'{self.title}' by {self.author}, published in {self.year_published}.\"\n",
        "\n",
        "book1 = Book(\"1984\", \"George Orwell\", 1949)\n",
        "book2 = Book(\"To Kill a Mockingbird\", \"Harper Lee\", 1960)\n",
        "\n",
        "print(book1.get_book_info())\n",
        "print(book2.get_book_info())\n"
      ],
      "metadata": {
        "id": "lSqfmU5H-mhk",
        "colab": {
          "base_uri": "https://localhost:8080/"
        },
        "outputId": "a7658eed-dace-4678-b9b5-7b3c53c445f3"
      },
      "execution_count": 16,
      "outputs": [
        {
          "output_type": "stream",
          "name": "stdout",
          "text": [
            "'1984' by George Orwell, published in 1949.\n",
            "'To Kill a Mockingbird' by Harper Lee, published in 1960.\n"
          ]
        }
      ]
    },
    {
      "cell_type": "code",
      "source": [
        "# 17.  Create a class House with attributes address and price. Create a derived class Mansion that adds an attribute number_of_rooms.\n",
        "\n",
        "class House:\n",
        "    def __init__(self, address, price):\n",
        "        self.address = address\n",
        "        self.price = price\n",
        "\n",
        "    def get_info(self):\n",
        "        \"\"\"Return house details.\"\"\"\n",
        "        return f\"Address: {self.address}, Price: ${self.price}\"\n",
        "\n",
        "class Mansion(House):\n",
        "    def __init__(self, address, price, number_of_rooms):\n",
        "        super().__init__(address, price)  # Call parent constructor\n",
        "        self.number_of_rooms = number_of_rooms\n",
        "\n",
        "    def get_info(self):\n",
        "        \"\"\"Return mansion details, including number of rooms.\"\"\"\n",
        "        return f\"{super().get_info()}, Rooms: {self.number_of_rooms}\"\n",
        "\n",
        "house = House(\"123 Main St\", 250000)\n",
        "mansion = Mansion(\"456 Luxury Ln\", 5000000, 10)\n",
        "\n",
        "print(house.get_info())\n",
        "print(mansion.get_info())"
      ],
      "metadata": {
        "id": "n_l9x9pq-muS",
        "colab": {
          "base_uri": "https://localhost:8080/"
        },
        "outputId": "1cce3d12-ca87-4009-c6d3-9518f397aca8"
      },
      "execution_count": 17,
      "outputs": [
        {
          "output_type": "stream",
          "name": "stdout",
          "text": [
            "Address: 123 Main St, Price: $250000\n",
            "Address: 456 Luxury Ln, Price: $5000000, Rooms: 10\n"
          ]
        }
      ]
    }
  ]
}